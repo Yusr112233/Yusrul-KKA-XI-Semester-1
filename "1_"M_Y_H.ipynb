{
  "nbformat": 4,
  "nbformat_minor": 0,
  "metadata": {
    "colab": {
      "provenance": [],
      "authorship_tag": "ABX9TyNKmHLujeDM1BK6/YT6rgFU",
      "include_colab_link": true
    },
    "kernelspec": {
      "name": "python3",
      "display_name": "Python 3"
    },
    "language_info": {
      "name": "python"
    }
  },
  "cells": [
    {
      "cell_type": "markdown",
      "metadata": {
        "id": "view-in-github",
        "colab_type": "text"
      },
      "source": [
        "<a href=\"https://colab.research.google.com/github/Yusr112233/Yusrul-KKA-XI-Semester-1/blob/main/%221_%22M_Y_H.ipynb\" target=\"_parent\"><img src=\"https://colab.research.google.com/assets/colab-badge.svg\" alt=\"Open In Colab\"/></a>"
      ]
    },
    {
      "cell_type": "markdown",
      "source": [
        "#Menampilkan String (Teks Bebas)"
      ],
      "metadata": {
        "id": "9H3ENkIkUTfs"
      }
    },
    {
      "cell_type": "markdown",
      "source": [
        "Nama = Muhammad Yusrul Hana\n",
        "\n",
        "Kelas = XI-3\n",
        "\n",
        "No. Absen = 18"
      ],
      "metadata": {
        "id": "MP4GdvSmUgHQ"
      }
    },
    {
      "cell_type": "code",
      "execution_count": null,
      "metadata": {
        "colab": {
          "base_uri": "https://localhost:8080/"
        },
        "id": "Zj1JiDY8UP-h",
        "outputId": "35c5c424-9be3-41b1-a3e4-4a94d5199604"
      },
      "outputs": [
        {
          "output_type": "stream",
          "name": "stdout",
          "text": [
            "my name is Muhammad Yusrul Hana\n"
          ]
        }
      ],
      "source": [
        "print(\"my name is Muhammad Yusrul Hana\")"
      ]
    },
    {
      "cell_type": "markdown",
      "source": [
        "#Menampilkan Nilai Variabel"
      ],
      "metadata": {
        "id": "PDBUS6OIVDel"
      }
    },
    {
      "cell_type": "code",
      "source": [
        "Nama = \"Muhammad Yusrul Hana\"\n",
        "usia = 16\n",
        "Tinggi_Badan = 173\n",
        "\n",
        "print(Nama)\n",
        "print(usia)\n",
        "print(Tinggi_Badan)"
      ],
      "metadata": {
        "colab": {
          "base_uri": "https://localhost:8080/"
        },
        "id": "JKI5V8ZIVWH7",
        "outputId": "b0c56ee4-cf74-468b-edcb-8a7ee7240eaa"
      },
      "execution_count": null,
      "outputs": [
        {
          "output_type": "stream",
          "name": "stdout",
          "text": [
            "Muhammad Yusrul Hana\n",
            "16\n",
            "173\n"
          ]
        }
      ]
    },
    {
      "cell_type": "markdown",
      "source": [
        "#Escape Caracter"
      ],
      "metadata": {
        "id": "Za77TpFtb58b"
      }
    },
    {
      "cell_type": "markdown",
      "source": [
        "#Paramater Fungsi Print"
      ],
      "metadata": {
        "id": "Gw6ratFzX0fD"
      }
    },
    {
      "cell_type": "code",
      "source": [
        "nama_siswa_1 = \"Yafi\"\n",
        "nama_siswa_2 = \"Wahyu\""
      ],
      "metadata": {
        "id": "5DLLY_4EZBQm"
      },
      "execution_count": null,
      "outputs": []
    },
    {
      "cell_type": "code",
      "source": [
        "print(nama_siswa_1, end=\"&\")\n",
        "print(nama_siswa_2)"
      ],
      "metadata": {
        "colab": {
          "base_uri": "https://localhost:8080/"
        },
        "id": "VNVEP_2fZMfO",
        "outputId": "0292b205-a4fe-4ee3-bea6-84910f014ef7"
      },
      "execution_count": null,
      "outputs": [
        {
          "output_type": "stream",
          "name": "stdout",
          "text": [
            "Yafi&Wahyu\n"
          ]
        }
      ]
    },
    {
      "cell_type": "code",
      "source": [
        "print(nama_siswa_1, nama_siswa_2, sep=\"^_^\")"
      ],
      "metadata": {
        "colab": {
          "base_uri": "https://localhost:8080/"
        },
        "id": "eXWMTnmdZXm2",
        "outputId": "97e77162-1c74-4220-a2f6-485ed512822b"
      },
      "execution_count": null,
      "outputs": [
        {
          "output_type": "stream",
          "name": "stdout",
          "text": [
            "Yafi^_^Wahyu\n"
          ]
        }
      ]
    },
    {
      "cell_type": "markdown",
      "source": [
        "#Latihan soal"
      ],
      "metadata": {
        "id": "RyrINjS1bacD"
      }
    },
    {
      "cell_type": "code",
      "source": [
        "nama_siswa_3 = \"Dzakka\"\n",
        "nama_siswa_4 = \"Haikal\"\n",
        "nama_siswa_5 = \"Hilma\""
      ],
      "metadata": {
        "id": "lxsnPCFXZ7rz"
      },
      "execution_count": null,
      "outputs": []
    },
    {
      "cell_type": "code",
      "source": [
        "print(nama_siswa_5, end=\"*\")\n",
        "print(nama_siswa_4, end=\"*\")\n",
        "print(nama_siswa_3, end=\"*\")\n",
        "print(nama_siswa_5)"
      ],
      "metadata": {
        "colab": {
          "base_uri": "https://localhost:8080/"
        },
        "id": "KksKPxHLaLhh",
        "outputId": "fac3b1a1-1f8f-4291-b1f7-5e2d211e4516"
      },
      "execution_count": null,
      "outputs": [
        {
          "output_type": "stream",
          "name": "stdout",
          "text": [
            "Hilma*Haikal*Dzakka*Hilma\n"
          ]
        }
      ]
    },
    {
      "cell_type": "code",
      "source": [
        "print(nama_siswa_4, nama_siswa_3, nama_siswa_5, nama_siswa_3, sep=\"~\")"
      ],
      "metadata": {
        "colab": {
          "base_uri": "https://localhost:8080/"
        },
        "id": "0bsAF9UGamXf",
        "outputId": "6e773df1-d6e9-432a-87bb-9788f2771953"
      },
      "execution_count": null,
      "outputs": [
        {
          "output_type": "stream",
          "name": "stdout",
          "text": [
            "Haikal~Dzakka~Hilma~Dzakka\n"
          ]
        }
      ]
    }
  ]
}